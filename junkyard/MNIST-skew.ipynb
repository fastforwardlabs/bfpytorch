{
 "cells": [
  {
   "cell_type": "code",
   "execution_count": null,
   "metadata": {},
   "outputs": [],
   "source": []
  },
  {
   "cell_type": "code",
   "execution_count": null,
   "metadata": {},
   "outputs": [],
   "source": [
    "def weight_digit(set_path, uw_digit, wgt_percent):\n",
    "    # weights a digit to wgt_perecent of the set\n",
    "    "
   ]
  },
  {
   "cell_type": "code",
   "execution_count": 3,
   "metadata": {},
   "outputs": [],
   "source": [
    "def get_weights(set_path):\n",
    "    # returns the weights of each digit in an MNIST set\n",
    "    \n",
    "    digit_counts = {0:0, \n",
    "                     1:0, \n",
    "                     2:0, \n",
    "                     3:0, \n",
    "                     4:0,\n",
    "                     5:0,\n",
    "                     6:0,\n",
    "                     7:0,\n",
    "                     8:0,\n",
    "                     9:0,}\n",
    "    \n",
    "    num_digits = 0\n",
    "    current_digit = -1\n",
    "    \n",
    "    # iterate through set\n",
    "    for x in set:\n",
    "        \n",
    "        current_digit = x\n",
    "        digit_counts[x] += 1\n",
    "        num_digits += 1\n",
    "        \n",
    "    for digit in digit_counts:\n",
    "        \n",
    "        digit_weights[digit] = digit_counts[digit] / num_digits\n",
    "        \n",
    "    return digit_weights"
   ]
  },
  {
   "cell_type": "code",
   "execution_count": null,
   "metadata": {},
   "outputs": [],
   "source": []
  }
 ],
 "metadata": {
  "kernelspec": {
   "display_name": "Python 3",
   "language": "python",
   "name": "python3"
  },
  "language_info": {
   "codemirror_mode": {
    "name": "ipython",
    "version": 3
   },
   "file_extension": ".py",
   "mimetype": "text/x-python",
   "name": "python",
   "nbconvert_exporter": "python",
   "pygments_lexer": "ipython3",
   "version": "3.6.5"
  }
 },
 "nbformat": 4,
 "nbformat_minor": 2
}

{
 "cells": [
  {
   "cell_type": "code",
   "execution_count": 10,
   "metadata": {},
   "outputs": [],
   "source": [
    "import federated"
   ]
  },
  {
   "cell_type": "code",
   "execution_count": 1,
   "metadata": {},
   "outputs": [],
   "source": [
    "data_path = './MNIST-data/raw'\n",
    "\n",
    "# location of data and labels\n",
    "test_labels_file = data_path + '/' + 't10k-labels-idx1-ubyte'\n",
    "test_data_file = data_path + '/' + 't10k-images-idx3-ubyte'\n",
    "train_labels_file = data_path + '/' + 'train-labels-idx1-ubyte'\n",
    "train_data_file = data_path + '/' + 'train-images-idx3-ubyte'"
   ]
  },
  {
   "cell_type": "code",
   "execution_count": 2,
   "metadata": {},
   "outputs": [
    {
     "name": "stdout",
     "output_type": "stream",
     "text": [
      "Training dset: Dataset MNIST\n",
      "    Number of datapoints: 60000\n",
      "    Split: train\n",
      "    Root Location: ./MNIST-data/raw\n",
      "    Transforms (if any): Compose(\n",
      "                             ToTensor()\n",
      "                             Normalize(mean=(0.5,), std=(1.0,))\n",
      "                         )\n",
      "    Target Transforms (if any): None\n",
      "Test dset: Dataset MNIST\n",
      "    Number of datapoints: 10000\n",
      "    Split: test\n",
      "    Root Location: ./MNIST-data/raw\n",
      "    Transforms (if any): Compose(\n",
      "                             ToTensor()\n",
      "                             Normalize(mean=(0.5,), std=(1.0,))\n",
      "                         )\n",
      "    Target Transforms (if any): None\n"
     ]
    }
   ],
   "source": [
    "import torch\n",
    "import torchvision.datasets as dsets\n",
    "\n",
    "import torchvision.transforms as transforms\n",
    "trans = transforms.Compose([transforms.ToTensor(), transforms.Normalize((0.5,), (1.0,))])\n",
    "#trans = transforms.Compose([transforms.ToTensor()])\n",
    "\n",
    "# pytorch datasets that download MNIST set as needed; used only to download files\n",
    "train_dset = dsets.MNIST(root=data_path, download=False, train=True, transform=trans)\n",
    "test_dset = dsets.MNIST(root=data_path, download=False, train=False, transform=trans)\n",
    "\n",
    "print(\"Training dset:\", train_dset)\n",
    "print(\"Test dset:\", test_dset)"
   ]
  },
  {
   "cell_type": "code",
   "execution_count": 3,
   "metadata": {},
   "outputs": [
    {
     "name": "stdout",
     "output_type": "stream",
     "text": [
      "Training target 0: (tensor([[[-0.5000, -0.5000, -0.5000, -0.5000, -0.5000, -0.5000, -0.5000,\n",
      "          -0.5000, -0.5000, -0.5000, -0.5000, -0.5000, -0.5000, -0.5000,\n",
      "          -0.5000, -0.5000, -0.5000, -0.5000, -0.5000, -0.5000, -0.5000,\n",
      "          -0.5000, -0.5000, -0.5000, -0.5000, -0.5000, -0.5000, -0.5000],\n",
      "         [-0.5000, -0.5000, -0.5000, -0.5000, -0.5000, -0.5000, -0.5000,\n",
      "          -0.5000, -0.5000, -0.5000, -0.5000, -0.5000, -0.5000, -0.5000,\n",
      "          -0.5000, -0.5000, -0.5000, -0.5000, -0.5000, -0.5000, -0.5000,\n",
      "          -0.5000, -0.5000, -0.5000, -0.5000, -0.5000, -0.5000, -0.5000],\n",
      "         [-0.5000, -0.5000, -0.5000, -0.5000, -0.5000, -0.5000, -0.5000,\n",
      "          -0.5000, -0.5000, -0.5000, -0.5000, -0.5000, -0.5000, -0.5000,\n",
      "          -0.5000, -0.5000, -0.5000, -0.5000, -0.5000, -0.5000, -0.5000,\n",
      "          -0.5000, -0.5000, -0.5000, -0.5000, -0.5000, -0.5000, -0.5000],\n",
      "         [-0.5000, -0.5000, -0.5000, -0.5000, -0.5000, -0.5000, -0.5000,\n",
      "          -0.5000, -0.5000, -0.5000, -0.5000, -0.5000, -0.5000, -0.5000,\n",
      "          -0.5000, -0.5000, -0.5000, -0.5000, -0.5000, -0.5000, -0.5000,\n",
      "          -0.5000, -0.5000, -0.5000, -0.5000, -0.5000, -0.5000, -0.5000],\n",
      "         [-0.5000, -0.5000, -0.5000, -0.5000, -0.5000, -0.5000, -0.5000,\n",
      "          -0.5000, -0.5000, -0.5000, -0.5000, -0.5000, -0.5000, -0.5000,\n",
      "          -0.5000, -0.5000, -0.5000, -0.5000, -0.5000, -0.5000, -0.5000,\n",
      "          -0.5000, -0.5000, -0.5000, -0.5000, -0.5000, -0.5000, -0.5000],\n",
      "         [-0.5000, -0.5000, -0.5000, -0.5000, -0.5000, -0.5000, -0.5000,\n",
      "          -0.5000, -0.5000, -0.5000, -0.5000, -0.5000, -0.4882, -0.4294,\n",
      "          -0.4294, -0.4294, -0.0059,  0.0333,  0.1863, -0.3980,  0.1510,\n",
      "           0.5000,  0.4686, -0.0020, -0.5000, -0.5000, -0.5000, -0.5000],\n",
      "         [-0.5000, -0.5000, -0.5000, -0.5000, -0.5000, -0.5000, -0.5000,\n",
      "          -0.5000, -0.3824, -0.3588, -0.1314,  0.1039,  0.1667,  0.4922,\n",
      "           0.4922,  0.4922,  0.4922,  0.4922,  0.3824,  0.1745,  0.4922,\n",
      "           0.4490,  0.2647, -0.2490, -0.5000, -0.5000, -0.5000, -0.5000],\n",
      "         [-0.5000, -0.5000, -0.5000, -0.5000, -0.5000, -0.5000, -0.5000,\n",
      "          -0.3078,  0.4333,  0.4922,  0.4922,  0.4922,  0.4922,  0.4922,\n",
      "           0.4922,  0.4922,  0.4922,  0.4843, -0.1353, -0.1784, -0.1784,\n",
      "          -0.2804, -0.3471, -0.5000, -0.5000, -0.5000, -0.5000, -0.5000],\n",
      "         [-0.5000, -0.5000, -0.5000, -0.5000, -0.5000, -0.5000, -0.5000,\n",
      "          -0.4294,  0.3588,  0.4922,  0.4922,  0.4922,  0.4922,  0.4922,\n",
      "           0.2765,  0.2137,  0.4686,  0.4451, -0.5000, -0.5000, -0.5000,\n",
      "          -0.5000, -0.5000, -0.5000, -0.5000, -0.5000, -0.5000, -0.5000],\n",
      "         [-0.5000, -0.5000, -0.5000, -0.5000, -0.5000, -0.5000, -0.5000,\n",
      "          -0.5000, -0.1863,  0.1118, -0.0804,  0.4922,  0.4922,  0.3039,\n",
      "          -0.4569, -0.5000, -0.3314,  0.1039, -0.5000, -0.5000, -0.5000,\n",
      "          -0.5000, -0.5000, -0.5000, -0.5000, -0.5000, -0.5000, -0.5000],\n",
      "         [-0.5000, -0.5000, -0.5000, -0.5000, -0.5000, -0.5000, -0.5000,\n",
      "          -0.5000, -0.5000, -0.4451, -0.4961,  0.1039,  0.4922, -0.1471,\n",
      "          -0.5000, -0.5000, -0.5000, -0.5000, -0.5000, -0.5000, -0.5000,\n",
      "          -0.5000, -0.5000, -0.5000, -0.5000, -0.5000, -0.5000, -0.5000],\n",
      "         [-0.5000, -0.5000, -0.5000, -0.5000, -0.5000, -0.5000, -0.5000,\n",
      "          -0.5000, -0.5000, -0.5000, -0.5000,  0.0451,  0.4922,  0.2451,\n",
      "          -0.4922, -0.5000, -0.5000, -0.5000, -0.5000, -0.5000, -0.5000,\n",
      "          -0.5000, -0.5000, -0.5000, -0.5000, -0.5000, -0.5000, -0.5000],\n",
      "         [-0.5000, -0.5000, -0.5000, -0.5000, -0.5000, -0.5000, -0.5000,\n",
      "          -0.5000, -0.5000, -0.5000, -0.5000, -0.4569,  0.2451,  0.4922,\n",
      "          -0.2255, -0.5000, -0.5000, -0.5000, -0.5000, -0.5000, -0.5000,\n",
      "          -0.5000, -0.5000, -0.5000, -0.5000, -0.5000, -0.5000, -0.5000],\n",
      "         [-0.5000, -0.5000, -0.5000, -0.5000, -0.5000, -0.5000, -0.5000,\n",
      "          -0.5000, -0.5000, -0.5000, -0.5000, -0.5000, -0.3627,  0.4451,\n",
      "           0.3824,  0.1275, -0.0765, -0.4961, -0.5000, -0.5000, -0.5000,\n",
      "          -0.5000, -0.5000, -0.5000, -0.5000, -0.5000, -0.5000, -0.5000],\n",
      "         [-0.5000, -0.5000, -0.5000, -0.5000, -0.5000, -0.5000, -0.5000,\n",
      "          -0.5000, -0.5000, -0.5000, -0.5000, -0.5000, -0.5000, -0.1824,\n",
      "           0.4412,  0.4922,  0.4922, -0.0333, -0.4020, -0.5000, -0.5000,\n",
      "          -0.5000, -0.5000, -0.5000, -0.5000, -0.5000, -0.5000, -0.5000],\n",
      "         [-0.5000, -0.5000, -0.5000, -0.5000, -0.5000, -0.5000, -0.5000,\n",
      "          -0.5000, -0.5000, -0.5000, -0.5000, -0.5000, -0.5000, -0.5000,\n",
      "          -0.3235,  0.2294,  0.4922,  0.4922,  0.0882, -0.3941, -0.5000,\n",
      "          -0.5000, -0.5000, -0.5000, -0.5000, -0.5000, -0.5000, -0.5000],\n",
      "         [-0.5000, -0.5000, -0.5000, -0.5000, -0.5000, -0.5000, -0.5000,\n",
      "          -0.5000, -0.5000, -0.5000, -0.5000, -0.5000, -0.5000, -0.5000,\n",
      "          -0.5000, -0.4373, -0.1353,  0.4882,  0.4922,  0.2333, -0.5000,\n",
      "          -0.5000, -0.5000, -0.5000, -0.5000, -0.5000, -0.5000, -0.5000],\n",
      "         [-0.5000, -0.5000, -0.5000, -0.5000, -0.5000, -0.5000, -0.5000,\n",
      "          -0.5000, -0.5000, -0.5000, -0.5000, -0.5000, -0.5000, -0.5000,\n",
      "          -0.5000, -0.5000, -0.5000,  0.4765,  0.4922,  0.4765, -0.2490,\n",
      "          -0.5000, -0.5000, -0.5000, -0.5000, -0.5000, -0.5000, -0.5000],\n",
      "         [-0.5000, -0.5000, -0.5000, -0.5000, -0.5000, -0.5000, -0.5000,\n",
      "          -0.5000, -0.5000, -0.5000, -0.5000, -0.5000, -0.5000, -0.5000,\n",
      "          -0.3196,  0.0098,  0.2176,  0.4922,  0.4922,  0.3118, -0.4922,\n",
      "          -0.5000, -0.5000, -0.5000, -0.5000, -0.5000, -0.5000, -0.5000],\n",
      "         [-0.5000, -0.5000, -0.5000, -0.5000, -0.5000, -0.5000, -0.5000,\n",
      "          -0.5000, -0.5000, -0.5000, -0.5000, -0.5000, -0.3471,  0.0804,\n",
      "           0.3980,  0.4922,  0.4922,  0.4922,  0.4804,  0.2137, -0.5000,\n",
      "          -0.5000, -0.5000, -0.5000, -0.5000, -0.5000, -0.5000, -0.5000],\n",
      "         [-0.5000, -0.5000, -0.5000, -0.5000, -0.5000, -0.5000, -0.5000,\n",
      "          -0.5000, -0.5000, -0.5000, -0.4059, -0.0529,  0.3667,  0.4922,\n",
      "           0.4922,  0.4922,  0.4922,  0.2882, -0.1941, -0.5000, -0.5000,\n",
      "          -0.5000, -0.5000, -0.5000, -0.5000, -0.5000, -0.5000, -0.5000],\n",
      "         [-0.5000, -0.5000, -0.5000, -0.5000, -0.5000, -0.5000, -0.5000,\n",
      "          -0.5000, -0.4098, -0.2412,  0.3353,  0.4922,  0.4922,  0.4922,\n",
      "           0.4922,  0.2765, -0.1824, -0.4922, -0.5000, -0.5000, -0.5000,\n",
      "          -0.5000, -0.5000, -0.5000, -0.5000, -0.5000, -0.5000, -0.5000],\n",
      "         [-0.5000, -0.5000, -0.5000, -0.5000, -0.5000, -0.5000, -0.4294,\n",
      "           0.1706,  0.3588,  0.4922,  0.4922,  0.4922,  0.4922,  0.2647,\n",
      "          -0.1863, -0.4647, -0.5000, -0.5000, -0.5000, -0.5000, -0.5000,\n",
      "          -0.5000, -0.5000, -0.5000, -0.5000, -0.5000, -0.5000, -0.5000],\n",
      "         [-0.5000, -0.5000, -0.5000, -0.5000, -0.2843,  0.1745,  0.3863,\n",
      "           0.4922,  0.4922,  0.4922,  0.4922,  0.4569,  0.0216, -0.4569,\n",
      "          -0.5000, -0.5000, -0.5000, -0.5000, -0.5000, -0.5000, -0.5000,\n",
      "          -0.5000, -0.5000, -0.5000, -0.5000, -0.5000, -0.5000, -0.5000],\n",
      "         [-0.5000, -0.5000, -0.5000, -0.5000,  0.0333,  0.4922,  0.4922,\n",
      "           0.4922,  0.3314,  0.0294,  0.0176, -0.4373, -0.5000, -0.5000,\n",
      "          -0.5000, -0.5000, -0.5000, -0.5000, -0.5000, -0.5000, -0.5000,\n",
      "          -0.5000, -0.5000, -0.5000, -0.5000, -0.5000, -0.5000, -0.5000],\n",
      "         [-0.5000, -0.5000, -0.5000, -0.5000, -0.5000, -0.5000, -0.5000,\n",
      "          -0.5000, -0.5000, -0.5000, -0.5000, -0.5000, -0.5000, -0.5000,\n",
      "          -0.5000, -0.5000, -0.5000, -0.5000, -0.5000, -0.5000, -0.5000,\n",
      "          -0.5000, -0.5000, -0.5000, -0.5000, -0.5000, -0.5000, -0.5000],\n",
      "         [-0.5000, -0.5000, -0.5000, -0.5000, -0.5000, -0.5000, -0.5000,\n",
      "          -0.5000, -0.5000, -0.5000, -0.5000, -0.5000, -0.5000, -0.5000,\n",
      "          -0.5000, -0.5000, -0.5000, -0.5000, -0.5000, -0.5000, -0.5000,\n",
      "          -0.5000, -0.5000, -0.5000, -0.5000, -0.5000, -0.5000, -0.5000],\n",
      "         [-0.5000, -0.5000, -0.5000, -0.5000, -0.5000, -0.5000, -0.5000,\n",
      "          -0.5000, -0.5000, -0.5000, -0.5000, -0.5000, -0.5000, -0.5000,\n",
      "          -0.5000, -0.5000, -0.5000, -0.5000, -0.5000, -0.5000, -0.5000,\n",
      "          -0.5000, -0.5000, -0.5000, -0.5000, -0.5000, -0.5000, -0.5000]]]), tensor(5))\n"
     ]
    }
   ],
   "source": [
    "print(\"Training target 0:\", train_dset.__getitem__(0))\n",
    "train_item = train_dset.__getitem__(0)"
   ]
  },
  {
   "cell_type": "code",
   "execution_count": 4,
   "metadata": {},
   "outputs": [
    {
     "name": "stdout",
     "output_type": "stream",
     "text": [
      "tensor(5)\n"
     ]
    },
    {
     "data": {
      "text/plain": [
       "5"
      ]
     },
     "execution_count": 4,
     "metadata": {},
     "output_type": "execute_result"
    }
   ],
   "source": [
    "print(train_item[1])\n",
    "\n",
    "train_item[1].item()\n",
    "\n",
    "train_dset.__getitem__(0)[1].item()"
   ]
  },
  {
   "cell_type": "code",
   "execution_count": 5,
   "metadata": {},
   "outputs": [
    {
     "data": {
      "text/plain": [
       "'\\nimport random\\nsample_biases = [1.0, 1.0, 1.0, 1.0, 1.0, 1.0, 1.0, 1.0, 1.0, 1.0]\\n\\n# takes a global training set, a global test set, and a ten-element list of biases as floats from 0.0 to 1.0\\ndef stacked_decks(train_dset, test_dset, biases):\\n\\n    for i in range(len(train_dset)):\\n        target_value = train_dset.__getitem__(i)[1].item()\\n        if(random.uniform(0.0, 1.0) <= biases[target_value]): train_targets[target_value].append(i)\\n\\n    stacked_train = Subset(train_dset, train_targets)\\n        \\n    for i in range(len(test_dset)):\\n        target_value = test_dset.__getitem__(i)[1].item()\\n        if(random.uniform(0.0, 1.0) <= biases[target_value]): test_targets[target_value].append(i)\\n        \\n    stacked_test = Subset(test_dset, test_targets)\\n\\n    return stacked_train, stacked_test\\n\\n\\nsttrain, sttest = stacked_decks(train_dset, test_dset, sample_biases)\\n\\nprint(\"sstrain length: \", sttrain.__getitem__(0)[1].item())\\nprint(\"sstest length: \", type(sttest))\\n'"
      ]
     },
     "execution_count": 5,
     "metadata": {},
     "output_type": "execute_result"
    }
   ],
   "source": [
    "train_targets = [[],[],[],[],[],[],[],[],[],[]]\n",
    "test_targets = [[],[],[],[],[],[],[],[],[],[]]\n",
    "\n",
    "for i in range(len(train_dset)):\n",
    "    #print(\"i:\", i, \"target_value:\", target_value)\n",
    "    target_value = train_dset.__getitem__(i)[1].item()\n",
    "    train_targets[target_value].append(i)\n",
    "\n",
    "for i in range(len(test_dset)):\n",
    "    #print(\"i:\", i, \"target_value:\", target_value)\n",
    "    target_value = test_dset.__getitem__(i)[1].item()\n",
    "    test_targets[target_value].append(i)\n",
    "\n",
    "\"\"\"\n",
    "import random\n",
    "sample_biases = [1.0, 1.0, 1.0, 1.0, 1.0, 1.0, 1.0, 1.0, 1.0, 1.0]\n",
    "\n",
    "# takes a global training set, a global test set, and a ten-element list of biases as floats from 0.0 to 1.0\n",
    "def stacked_decks(train_dset, test_dset, biases):\n",
    "\n",
    "    for i in range(len(train_dset)):\n",
    "        target_value = train_dset.__getitem__(i)[1].item()\n",
    "        if(random.uniform(0.0, 1.0) <= biases[target_value]): train_targets[target_value].append(i)\n",
    "\n",
    "    stacked_train = Subset(train_dset, train_targets)\n",
    "        \n",
    "    for i in range(len(test_dset)):\n",
    "        target_value = test_dset.__getitem__(i)[1].item()\n",
    "        if(random.uniform(0.0, 1.0) <= biases[target_value]): test_targets[target_value].append(i)\n",
    "        \n",
    "    stacked_test = Subset(test_dset, test_targets)\n",
    "\n",
    "    return stacked_train, stacked_test\n",
    "\n",
    "\n",
    "sttrain, sttest = stacked_decks(train_dset, test_dset, sample_biases)\n",
    "\n",
    "print(\"sstrain length: \", sttrain.__getitem__(0)[1].item())\n",
    "print(\"sstest length: \", type(sttest))\n",
    "\"\"\""
   ]
  },
  {
   "cell_type": "code",
   "execution_count": 6,
   "metadata": {},
   "outputs": [],
   "source": [
    "from torch.utils.data.dataset import Subset\n",
    "\n",
    "train_subset_zeros = Subset(train_dset, train_targets[0])\n",
    "train_subset_ones = Subset(train_dset, train_targets[1])\n",
    "train_subset_twos = Subset(train_dset, train_targets[2])\n",
    "train_subset_threes = Subset(train_dset, train_targets[3])\n",
    "train_subset_fours = Subset(train_dset, train_targets[4])\n",
    "train_subset_fives = Subset(train_dset, train_targets[5])\n",
    "train_subset_sixes = Subset(train_dset, train_targets[6])\n",
    "train_subset_sevens = Subset(train_dset, train_targets[7])\n",
    "train_subset_eights = Subset(train_dset, train_targets[8])\n",
    "train_subset_nines = Subset(train_dset, train_targets[9])\n",
    "\n",
    "test_subset_zeros = Subset(test_dset, test_targets[0])\n",
    "test_subset_ones = Subset(test_dset, test_targets[1])\n",
    "test_subset_twos = Subset(test_dset, test_targets[2])\n",
    "test_subset_threes = Subset(test_dset, test_targets[3])\n",
    "test_subset_fours = Subset(test_dset, test_targets[4])\n",
    "test_subset_fives = Subset(test_dset, test_targets[5])\n",
    "test_subset_sixes = Subset(test_dset, test_targets[6])\n",
    "test_subset_sevens = Subset(test_dset, test_targets[7])\n",
    "test_subset_eights = Subset(test_dset, test_targets[8])\n",
    "test_subset_nines = Subset(test_dset, test_targets[9])\n",
    "\n",
    "\n",
    "#for i in range(len(test_subset_zeros)): print(test_subset_zeros.__getitem__(i)[1])"
   ]
  },
  {
   "cell_type": "code",
   "execution_count": 7,
   "metadata": {},
   "outputs": [
    {
     "name": "stdout",
     "output_type": "stream",
     "text": [
      "train_dloader: 1875 test_dloader: 313\n"
     ]
    }
   ],
   "source": [
    "from torch.utils.data import DataLoader\n",
    "\n",
    "# create dataloaders\n",
    "batch_size = 32\n",
    "\n",
    "train_dloader = DataLoader(train_dset, batch_size=batch_size, shuffle=True)\n",
    "test_dloader = DataLoader(test_dset, batch_size=batch_size, shuffle=False)\n",
    "\n",
    "#train_dloader = DataLoader(train_subset_sevens, batch_size=batch_size, shuffle=True)\n",
    "#test_dloader = DataLoader(test_subset_sevens, batch_size=batch_size, shuffle=False)\n",
    "\n",
    "print(\"train_dloader:\", len(train_dloader), \"test_dloader:\", len(test_dloader))"
   ]
  },
  {
   "cell_type": "code",
   "execution_count": 8,
   "metadata": {},
   "outputs": [],
   "source": [
    "import torch.nn as nn\n",
    "\n",
    "class MLPNet(nn.Module):\n",
    "    def __init__(self):\n",
    "        super(MLPNet, self).__init__()\n",
    "        self.fc1 = nn.Linear(28*28, 500)\n",
    "        self.fc2 = nn.Linear(500, 256)\n",
    "        self.fc3 = nn.Linear(256, 10)\n",
    "    def forward(self, x):\n",
    "        x = x.view(-1, 28*28)\n",
    "        x = nn.functional.relu(self.fc1(x))\n",
    "        x = nn.functional.relu(self.fc2(x))\n",
    "        x = self.fc3(x)\n",
    "        return x\n",
    "    \n",
    "    def name(self):\n",
    "        return \"MLP\""
   ]
  },
  {
   "cell_type": "code",
   "execution_count": 9,
   "metadata": {},
   "outputs": [
    {
     "name": "stdout",
     "output_type": "stream",
     "text": [
      "epoch:   0, batch index:  187, train loss: 1.78351\n",
      "epoch:   0, batch index:  374, train loss: 0.87767\n",
      "epoch:   0, batch index:  561, train loss: 0.48610\n",
      "epoch:   0, batch index:  748, train loss: 0.52811\n",
      "epoch:   0, batch index:  935, train loss: 0.43015\n",
      "epoch:   0, batch index: 1122, train loss: 0.39562\n",
      "epoch:   0, batch index: 1309, train loss: 0.37052\n",
      "epoch:   0, batch index: 1496, train loss: 0.30537\n",
      "epoch:   0, batch index: 1683, train loss: 0.29403\n",
      "epoch:   0, batch index: 1870, train loss: 0.31688\n",
      "epoch:   0, batch index: 1875, train loss: 0.34223\n",
      "==>>> epoch: 0, batch index: 313, test loss: 0.40237, acc: 0.909\n"
     ]
    },
    {
     "data": {
      "image/png": "[encoded data removed]",
      "text/plain": [
       "<Figure size 432x288 with 1 Axes>"
      ]
     },
     "metadata": {
      "needs_background": "light"
     },
     "output_type": "display_data"
    }
   ],
   "source": [
    "model = MLPNet()\n",
    "\n",
    "learning_rate = 0.01\n",
    "momentum = 0.5\n",
    "num_epochs = 1\n",
    "\n",
    "optimizer = torch.optim.SGD(model.parameters(), lr=learning_rate, momentum=momentum)\n",
    "criterion = nn.CrossEntropyLoss()\n",
    "\n",
    "train_loss_history = []\n",
    "test_loss_history = []\n",
    "\n",
    "for epoch in range(num_epochs):\n",
    "\n",
    "    # train\n",
    "    avg_loss = 0\n",
    "    for batch_idx, (x, target) in enumerate(train_dloader):\n",
    "        optimizer.zero_grad()\n",
    "        out = model(x)\n",
    "        loss = criterion(out, target)\n",
    "        if(batch_idx % int(len(train_dloader)/len(test_dloader)) == 0): train_loss_history.append(loss.item())\n",
    "        #train_loss_history.append(loss.item())\n",
    "        avg_loss = avg_loss * 0.9 + loss.item() * 0.1\n",
    "        loss.backward()\n",
    "        optimizer.step()\n",
    "                    \n",
    "        if (batch_idx+1) % int(len(train_dloader)/10) == 0 or (batch_idx+1) == len(train_dloader):\n",
    "            print ('epoch: {:3d}, batch index: {:4d}, train loss: {:.5f}'.format(\n",
    "                epoch, batch_idx+1, avg_loss))     \n",
    "            \n",
    "    # test\n",
    "    correct_cnt, total_cnt, ave_loss = 0, 0, 0\n",
    "    avg_loss = 0\n",
    "    \n",
    "    for batch_idx, (x, target) in enumerate(test_dloader):\n",
    "        out = model(x)\n",
    "        loss = criterion(out, target)\n",
    "        test_loss_history.append(loss.item())\n",
    "        _, pred_label = torch.max(out.data, 1)\n",
    "        total_cnt += x.data.size()[0]\n",
    "        correct_cnt += (pred_label == target.data).sum()\n",
    "        \n",
    "        #print(pred_label, target.data)\n",
    "        #print(x.data.size()[0], (pred_label == target.data).sum().item())\n",
    "        #print(correct_cnt, total_cnt)\n",
    "        \n",
    "        \n",
    "        # smooth average\n",
    "        avg_loss = avg_loss * 0.9 + loss.item() * 0.1\n",
    "        \n",
    "        if(batch_idx+1) % 500 == 0 or (batch_idx+1) == len(test_dloader):\n",
    "            print ('==>>> epoch: {}, batch index: {}, test loss: {:.5f}, acc: {:.3f}'.format(\n",
    "                epoch, batch_idx+1, avg_loss, correct_cnt.item() * 1.0 / total_cnt))\n",
    "\n",
    "#TODO GET TEST LOSS AND ACCURACY CORRECT\n",
    "#TODO SCALE TEST LOSS TO MATCH TRAIN LOSS FOR PLOTTING\n",
    "\n",
    "%matplotlib inline\n",
    "import matplotlib.pyplot as plt\n",
    "fig, ax = plt.subplots()\n",
    "ax.plot(train_loss_history, label=\"train\");\n",
    "ax.plot(test_loss_history, label=\"test\");\n",
    "ax.legend();"
   ]
  },
  {
   "cell_type": "code",
   "execution_count": null,
   "metadata": {},
   "outputs": [],
   "source": []
  },
  {
   "cell_type": "code",
   "execution_count": null,
   "metadata": {},
   "outputs": [],
   "source": []
  },
  {
   "cell_type": "code",
   "execution_count": null,
   "metadata": {},
   "outputs": [],
   "source": []
  }
 ],
 "metadata": {
  "kernelspec": {
   "display_name": "Python 2",
   "language": "python",
   "name": "python2"
  },
  "language_info": {
   "codemirror_mode": {
    "name": "ipython",
    "version": 3
   },
   "file_extension": ".py",
   "mimetype": "text/x-python",
   "name": "python",
   "nbconvert_exporter": "python",
   "pygments_lexer": "ipython3",
   "version": "3.6.5"
  }
 },
 "nbformat": 4,
 "nbformat_minor": 2
}

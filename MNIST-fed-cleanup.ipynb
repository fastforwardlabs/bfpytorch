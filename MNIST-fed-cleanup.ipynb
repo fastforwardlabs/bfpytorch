{
 "cells": [
  {
   "cell_type": "markdown",
   "metadata": {},
   "source": [
    "Put this in this file to have imported models reload automatically when you edit them."
   ]
  },
  {
   "cell_type": "code",
   "execution_count": 19,
   "metadata": {},
   "outputs": [
    {
     "name": "stdout",
     "output_type": "stream",
     "text": [
      "%load_ext autoreload\r\n",
      "%autoreload 2\r\n"
     ]
    }
   ],
   "source": [
    "!cat ~/.ipython/profile_default/startup/00-autoreload.ipy"
   ]
  },
  {
   "cell_type": "markdown",
   "metadata": {},
   "source": [
    "# Federated Learning Test\n",
    "\n",
    "This notebook is a test of federated learning using the MNIST dataset. It distributes partial subsets of the MNIST data to each worker and tests the results of federation of the workers. It also skews the subsets to investigate the value of federation in cases where workers have substantially different samples."
   ]
  },
  {
   "cell_type": "code",
   "execution_count": 1,
   "metadata": {},
   "outputs": [],
   "source": [
    "data_path = './MNIST-data/raw'\n",
    "\n",
    "# location of data and labels\n",
    "test_labels_file = data_path + '/' + 't10k-labels-idx1-ubyte'\n",
    "test_data_file = data_path + '/' + 't10k-images-idx3-ubyte'\n",
    "train_labels_file = data_path + '/' + 'train-labels-idx1-ubyte'\n",
    "train_data_file = data_path + '/' + 'train-images-idx3-ubyte'"
   ]
  },
  {
   "cell_type": "code",
   "execution_count": 2,
   "metadata": {},
   "outputs": [],
   "source": [
    "import torch\n",
    "import torchvision.datasets as dsets\n",
    "import torchvision.transforms as transforms\n",
    "\n",
    "trans = transforms.Compose([transforms.ToTensor(), transforms.Normalize((0.5,), (1.0,))])\n",
    "\n",
    "# pytorch datasets that download MNIST set as needed; used only to download files\n",
    "train_dset = dsets.MNIST(root=data_path, download=False, train=True, transform=trans)\n",
    "test_dset = dsets.MNIST(root=data_path, download=False, train=False, transform=trans)"
   ]
  },
  {
   "cell_type": "code",
   "execution_count": 3,
   "metadata": {},
   "outputs": [],
   "source": [
    "# this is a hacky way of turning a dataset into two lists.\n",
    "# In this case, Xtest is now a list of Tensors, and ytest is a regular list\n",
    "Xtest, ytest = list(zip(*test_dset))"
   ]
  },
  {
   "cell_type": "code",
   "execution_count": 4,
   "metadata": {},
   "outputs": [],
   "source": [
    "# This turns a list of N A*B tensors into an N*A*B tensor\n",
    "Xtest = torch.stack(Xtest)"
   ]
  },
  {
   "cell_type": "code",
   "execution_count": 5,
   "metadata": {},
   "outputs": [],
   "source": [
    "# This turns a list into a tensor, and ensures they stay as integers (no conversion to floats!)\n",
    "ytest = torch.LongTensor(ytest)"
   ]
  },
  {
   "cell_type": "code",
   "execution_count": 6,
   "metadata": {},
   "outputs": [],
   "source": [
    "from torch.utils.data import DataLoader\n",
    "\n",
    "batch_size = 128\n",
    "\n",
    "train_dloader = DataLoader(train_dset, batch_size=batch_size, shuffle=True)\n",
    "test_dloader = DataLoader(test_dset, batch_size=batch_size, shuffle=False)"
   ]
  },
  {
   "cell_type": "code",
   "execution_count": 7,
   "metadata": {},
   "outputs": [],
   "source": [
    "import torch.nn as nn\n",
    "\n",
    "class MLPNet(nn.Module):\n",
    "    def __init__(self):\n",
    "        super(MLPNet, self).__init__()\n",
    "        self.fc1 = nn.Linear(28*28, 500)\n",
    "        self.fc2 = nn.Linear(500, 256)\n",
    "        self.fc3 = nn.Linear(256, 10)\n",
    "    def forward(self, x):\n",
    "        x = x.view(-1, 28*28)\n",
    "        x = nn.functional.relu(self.fc1(x))\n",
    "        x = nn.functional.relu(self.fc2(x))\n",
    "        x = self.fc3(x)\n",
    "        return x\n",
    "    \n",
    "    def name(self):\n",
    "        return \"MLP\""
   ]
  },
  {
   "cell_type": "code",
   "execution_count": 8,
   "metadata": {},
   "outputs": [
    {
     "name": "stdout",
     "output_type": "stream",
     "text": [
      "0 2.2997732162475586\n",
      "100 0.9658642411231995\n",
      "200 0.6384410858154297\n",
      "300 0.4885415732860565\n",
      "400 0.34330153465270996\n",
      "--> 0 0.32315945625305176\n",
      "0 0.27585044503211975\n",
      "100 0.18341147899627686\n",
      "200 0.2150757610797882\n",
      "300 0.4083252549171448\n",
      "400 0.29769498109817505\n",
      "--> 1 0.21210375428199768\n",
      "0 0.2777971625328064\n",
      "100 0.19314226508140564\n",
      "200 0.13202005624771118\n",
      "300 0.12300673872232437\n",
      "400 0.21683062613010406\n",
      "--> 2 0.16824617981910706\n",
      "0 0.30648213624954224\n",
      "100 0.18518926203250885\n",
      "200 0.22343380749225616\n",
      "300 0.14932726323604584\n",
      "400 0.19650715589523315\n",
      "--> 3 0.1449524164199829\n",
      "0 0.0770709291100502\n",
      "100 0.08593206852674484\n",
      "200 0.11101403832435608\n",
      "300 0.12402833253145218\n",
      "400 0.10719337314367294\n",
      "--> 4 0.1389201432466507\n"
     ]
    }
   ],
   "source": [
    "model = MLPNet()\n",
    "\n",
    "learning_rate = 1e-1\n",
    "num_epochs = 5\n",
    "\n",
    "optimizer = torch.optim.SGD(model.parameters(), lr=learning_rate)  # no momentum for like-with-like momentum=momentum)\n",
    "criterion = nn.CrossEntropyLoss()\n",
    "\n",
    "train_loss_history = []\n",
    "test_loss_history = []\n",
    "\n",
    "for epoch in range(num_epochs):\n",
    "\n",
    "    for batch_idx, (x, target) in enumerate(train_dloader):\n",
    "        optimizer.zero_grad()\n",
    "        out = model(x)\n",
    "        loss = criterion(out, target)\n",
    "        train_loss_history.append(loss.item())\n",
    "        if batch_idx%100 == 0:\n",
    "            print(batch_idx, train_loss_history[-1])\n",
    "        loss.backward()\n",
    "        optimizer.step()\n",
    "    \n",
    "    # only do this once per epoch. Expensive.\n",
    "    # (Although it makes it difficult to show two loss curves on same plot, as you saw)\n",
    "    with torch.no_grad():\n",
    "        test_loss_history.append(criterion(model(Xtest), ytest).item())\n",
    "        print(\"-->\", epoch, test_loss_history[-1])"
   ]
  },
  {
   "cell_type": "code",
   "execution_count": 9,
   "metadata": {},
   "outputs": [
    {
     "data": {
      "image/png": "[encoded data removed]",
      "text/plain": [
       "<Figure size 432x288 with 2 Axes>"
      ]
     },
     "metadata": {
      "needs_background": "light"
     },
     "output_type": "display_data"
    }
   ],
   "source": [
    "%matplotlib inline\n",
    "import matplotlib.pyplot as plt\n",
    "fig, ax = plt.subplots(1, 2)\n",
    "ax[0].plot(train_loss_history, label=\"train\")\n",
    "ax[0].set_xlabel(\"batches\")\n",
    "ax[1].plot(test_loss_history, label=\"test\")\n",
    "ax[1].set_xlabel(\"epochs\")\n",
    "ax[0].legend()\n",
    "ax[1].legend();"
   ]
  },
  {
   "cell_type": "markdown",
   "metadata": {},
   "source": [
    "## Testing Federation"
   ]
  },
  {
   "cell_type": "code",
   "execution_count": 15,
   "metadata": {},
   "outputs": [],
   "source": [
    "import federated\n",
    "\n",
    "def make_model():\n",
    "    return MLPNet()\n",
    "\n",
    "manager = federated.FederatedManager(\n",
    "    [train_dloader],\n",
    "    make_model,\n",
    "    nn.CrossEntropyLoss(),  # this needs to be an instance of the class, i.e. an object, i.e. you needed `()`\n",
    "    Xtest,\n",
    "    ytest,\n",
    ")"
   ]
  },
  {
   "cell_type": "code",
   "execution_count": 16,
   "metadata": {},
   "outputs": [],
   "source": [
    "# compare like with like\n",
    "for w in manager.workers:\n",
    "    w.lr = learning_rate"
   ]
  },
  {
   "cell_type": "code",
   "execution_count": 17,
   "metadata": {
    "scrolled": false
   },
   "outputs": [
    {
     "name": "stdout",
     "output_type": "stream",
     "text": [
      "0 2.3039159774780273\n",
      "100 0.738369345664978\n",
      "200 0.5175963044166565\n",
      "300 0.46021562814712524\n",
      "400 0.2818622589111328\n",
      "--> 0 0.3078147768974304\n",
      "0 0.42502671480178833\n",
      "100 0.21099109947681427\n",
      "200 0.20319485664367676\n",
      "300 0.24987225234508514\n",
      "400 0.2506459057331085\n",
      "--> 1 0.22224541008472443\n",
      "0 0.22429701685905457\n",
      "100 0.15013852715492249\n",
      "200 0.28139403462409973\n",
      "300 0.125340074300766\n",
      "400 0.22222980856895447\n",
      "--> 2 0.1751822531223297\n",
      "0 0.2659588158130646\n",
      "100 0.15020017325878143\n",
      "200 0.2074354588985443\n",
      "300 0.23879790306091309\n",
      "400 0.11009503155946732\n",
      "--> 3 0.140364870429039\n",
      "0 0.15712079405784607\n",
      "100 0.1282908022403717\n",
      "200 0.2205338478088379\n",
      "300 0.09678976982831955\n",
      "400 0.1541793793439865\n",
      "--> 4 0.1313612461090088\n"
     ]
    }
   ],
   "source": [
    "for i in range(num_epochs):\n",
    "    manager.round()\n",
    "    print(\"-->\", i, manager.manager_loss_history[-1])"
   ]
  },
  {
   "cell_type": "code",
   "execution_count": 18,
   "metadata": {},
   "outputs": [
    {
     "data": {
      "image/png": "[encoded data removed]",
      "text/plain": [
       "<Figure size 432x288 with 1 Axes>"
      ]
     },
     "metadata": {
      "needs_background": "light"
     },
     "output_type": "display_data"
    }
   ],
   "source": [
    "fig, ax = plt.subplots()\n",
    "# loss of global model on test set gets recorded twice per round\n",
    "# [1::2] skips the record that takes place before that round's training has happened\n",
    "ax.plot(manager.manager_loss_history[1::2])\n",
    "ax.set_xlabel(\"round\");"
   ]
  },
  {
   "cell_type": "markdown",
   "metadata": {},
   "source": [
    "# Next\n",
    "\n",
    " - $>1$ dataloader to federated\n",
    " - visualize evolution of manager.workers[0, 1, 2, etc.].loss_history (this should be comparable to the training loss on the non-federated model)\n",
    " - stack deck in dataloaders"
   ]
  }
 ],
 "metadata": {
  "kernelspec": {
   "display_name": "Python 3",
   "language": "python",
   "name": "python3"
  },
  "language_info": {
   "codemirror_mode": {
    "name": "ipython",
    "version": 3
   },
   "file_extension": ".py",
   "mimetype": "text/x-python",
   "name": "python",
   "nbconvert_exporter": "python",
   "pygments_lexer": "ipython3",
   "version": "3.6.3"
  }
 },
 "nbformat": 4,
 "nbformat_minor": 2
}
